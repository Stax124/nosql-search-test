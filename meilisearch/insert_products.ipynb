{
 "cells": [
  {
   "cell_type": "code",
   "execution_count": 2,
   "metadata": {},
   "outputs": [],
   "source": [
    "import meilisearch"
   ]
  },
  {
   "cell_type": "code",
   "execution_count": 3,
   "metadata": {},
   "outputs": [],
   "source": [
    "client = meilisearch.Client(\"http://127.0.0.1:7700\", \"MASTER_KEY\")"
   ]
  },
  {
   "cell_type": "code",
   "execution_count": 4,
   "metadata": {},
   "outputs": [],
   "source": [
    "index = client.index(\"products\")"
   ]
  },
  {
   "cell_type": "code",
   "execution_count": 5,
   "metadata": {},
   "outputs": [],
   "source": [
    "ignore_facets = [\"id\", \"product_id\", \"master_product_id\", \"image_url\"]"
   ]
  },
  {
   "cell_type": "code",
   "execution_count": 6,
   "metadata": {},
   "outputs": [
    {
     "data": {
      "text/plain": [
       "{'id': '6215965',\n",
       " 'cfOS': 'Android',\n",
       " 'cfGPS': True,\n",
       " 'cfNFC': True,\n",
       " 'cfUsb': 2.0,\n",
       " 'cfWiFi': '802.11ac/6',\n",
       " 'cfWeight': 159.0,\n",
       " 'cfNetwork': '5G',\n",
       " 'cfCPUCores': 'osmijádrový',\n",
       " 'cfSIMCount': 2,\n",
       " 'product_id': 'b702cce9-4d4e-6105-7850-fbf0c902214c',\n",
       " 'cfBluetooth': 5.2,\n",
       " 'cfLteCatMhz': 'Pásmo 1, 2 100 MHz; Pásmo 20, 800 MHz; Pásmo 3, 1 800 MHz; Pásmo 8, 900 MHz',\n",
       " 'cfOSVersion': 'Google Android 11',\n",
       " 'cfCat8900mhz': True,\n",
       " 'product_name': 'Xiaomi Mi 11 Lite 5G, 8GB/128GB Truffle Black',\n",
       " 'cfCPUProducer': 'Qualcomm',\n",
       " 'cfCat12100mhz': True,\n",
       " 'cfCat18800mhz': False,\n",
       " 'cfCat19800mhz': False,\n",
       " 'cfCat20800mhz': True,\n",
       " 'cfCat31800mhz': True,\n",
       " 'cfDisplaySIze': 6.6,\n",
       " 'cfFaceScanner': True,\n",
       " 'cfSim1CardType': 'Nano',\n",
       " 'cfSim2CardType': 'Nano/sdílený s paměťovou kartou',\n",
       " 'cfDimensionWidth': 75.7,\n",
       " 'cfExternalMemory': 'MicroSD',\n",
       " 'cfCameraPrimaryAF': True,\n",
       " 'cfDimensionHeight': 160.5,\n",
       " 'master_product_id': 'b21ec87f-4d4e-6105-7850-fbf028d4f760',\n",
       " 'cfCPUChipsetPhones': 'Snapdragon 780G',\n",
       " 'cfDisplayProtection': True,\n",
       " 'cfDisplayResolution': '2400x1080',\n",
       " 'cfDisplaySizeFilter': '5.6\" - 6.9\"',\n",
       " 'cfDisplayTechnology': 'AMOLED',\n",
       " 'cfCameraPrimaryFlash': True,\n",
       " 'cfCameraPrimaryVideo': '4K',\n",
       " 'cfChargingConnection': 'Type-C',\n",
       " 'cfDimensionThickness': 6.8,\n",
       " 'cfInternalMemorySize': '128 GB',\n",
       " 'cfDisplayProtectionType': 'Corning Gorilla Glass 6',\n",
       " 'cfMainCamerasResolution': '64 Mpx / 8 Mpx / 5 Mpx',\n",
       " 'cfCameraPrimaryResolution': 64.0,\n",
       " 'cfDisplayResolutionFilter': 'Full HD+',\n",
       " 'cfSelfieCamerasResolution': '20 Mpx',\n",
       " 'cfCameraSecondaryResolution': 20.0,\n",
       " 'cfLencesNumberPrimaryCamera': 3,\n",
       " 'cfLencesNumberSecundaryCamera': 1,\n",
       " 'cfCameraPrimaryResolutionFilter': 'Nad 42 Mpx',\n",
       " 'cfRAM': '8 GB',\n",
       " 'cfRAMFilter': '8 GB',\n",
       " 'cfCPUFrequency': 2.4,\n",
       " 'cfBatteryCapacity': 4250,\n",
       " 'cfBatteryCapacityFilter': 'Více než 5 500 mAh',\n",
       " 'cfFingerprintProtection': True,\n",
       " 'cfFingerprintProtectionHw': True,\n",
       " 'image_url': 'https://www.mp.cz/media/photos/2021/04/12/24-92292-3-9.avif'}"
      ]
     },
     "execution_count": 6,
     "metadata": {},
     "output_type": "execute_result"
    }
   ],
   "source": [
    "# Faceted search for Nvidia gpus for desktops newer than 2020\n",
    "search = index.search(\n",
    "    \"Xiaomi Mi 11 Lite 5G\",\n",
    "    {\n",
    "        \"filter\": \"cfOS = Android\",\n",
    "        \"facets\": [i for i in index.get_filterable_attributes() if i not in ignore_facets],\n",
    "        \"limit\": 1,\n",
    "        \"offset\": 0,\n",
    "    },\n",
    ")\n",
    "search[\"hits\"][0]"
   ]
  },
  {
   "cell_type": "code",
   "execution_count": 11,
   "metadata": {},
   "outputs": [
    {
     "data": {
      "text/plain": [
       "['genres', 'id', 'release_date', 'title']"
      ]
     },
     "execution_count": 11,
     "metadata": {},
     "output_type": "execute_result"
    }
   ],
   "source": [
    "index.get_filterable_attributes()"
   ]
  },
  {
   "cell_type": "code",
   "execution_count": 7,
   "metadata": {},
   "outputs": [
    {
     "data": {
      "text/plain": [
       "KeysResults(results=[Key(uid='934aa833-7eaa-427c-b293-482e5de9c6cc', name='Default Search API Key', description='Use it to search from the frontend', actions=['search'], indexes=['*'], expires_at=None, key='f9bad4bf7dd78862681902e0e9b448b3a81bc4672d73f396037d0082c4f33b30', created_at=datetime.datetime(2025, 1, 13, 11, 34, 2, 959106), updated_at=datetime.datetime(2025, 1, 13, 11, 34, 2, 959106)), Key(uid='677f3667-5730-4256-883d-589b34453310', name='Default Admin API Key', description='Use it for anything that is not a search operation. Caution! Do not expose it on a public frontend', actions=['*'], indexes=['*'], expires_at=None, key='1bc2437fd9183f22b1ba1e4b8f805ebf22139071cdc5dd6147e4925d9dcd890e', created_at=datetime.datetime(2025, 1, 13, 11, 34, 2, 956585), updated_at=datetime.datetime(2025, 1, 13, 11, 34, 2, 956585))], offset=0, limit=20, total=2)"
      ]
     },
     "execution_count": 7,
     "metadata": {},
     "output_type": "execute_result"
    }
   ],
   "source": [
    "client.get_keys()"
   ]
  },
  {
   "cell_type": "code",
   "execution_count": 8,
   "metadata": {},
   "outputs": [
    {
     "data": {
      "text/plain": [
       "Key(uid='934aa833-7eaa-427c-b293-482e5de9c6cc', name='Default Search API Key', description='Use it to search from the frontend', actions=['search'], indexes=['*'], expires_at=None, key='f9bad4bf7dd78862681902e0e9b448b3a81bc4672d73f396037d0082c4f33b30', created_at=datetime.datetime(2025, 1, 13, 11, 34, 2, 959106), updated_at=datetime.datetime(2025, 1, 13, 11, 34, 2, 959106))"
      ]
     },
     "execution_count": 8,
     "metadata": {},
     "output_type": "execute_result"
    }
   ],
   "source": [
    "client.get_key(\"934aa833-7eaa-427c-b293-482e5de9c6cc\")"
   ]
  }
 ],
 "metadata": {
  "kernelspec": {
   "display_name": ".venv",
   "language": "python",
   "name": "python3"
  },
  "language_info": {
   "codemirror_mode": {
    "name": "ipython",
    "version": 3
   },
   "file_extension": ".py",
   "mimetype": "text/x-python",
   "name": "python",
   "nbconvert_exporter": "python",
   "pygments_lexer": "ipython3",
   "version": "3.12.7"
  }
 },
 "nbformat": 4,
 "nbformat_minor": 2
}
